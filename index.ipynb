{
 "cells": [
  {
   "cell_type": "markdown",
   "metadata": {},
   "source": [
    "# Notebooks for Tensorflow\n",
    "\n",
    "[Getting Started](./getting_started/getting_started.ipynb)\n",
    "\n",
    "[MNIST for Machine Learning Beginners](./mnist_for_ml_beginners/mnist_for_ml_beginners.ipynb)\n",
    "\n",
    "[Deep MNIST for Experts](./deep_mnist_for_experts/deep_mnist_for_experts.ipynb)\n",
    "\n",
    "[tf.contrib.learn Quickstart](./get_started/estimator/estimator.ipynb)\n",
    "\n",
    "\n"
   ]
  },
  {
   "cell_type": "code",
   "execution_count": null,
   "metadata": {
    "collapsed": true
   },
   "outputs": [],
   "source": []
  }
 ],
 "metadata": {
  "kernelspec": {
   "display_name": "Python 3",
   "language": "python",
   "name": "python3"
  },
  "language_info": {
   "codemirror_mode": {
    "name": "ipython",
    "version": 3
   },
   "file_extension": ".py",
   "mimetype": "text/x-python",
   "name": "python",
   "nbconvert_exporter": "python",
   "pygments_lexer": "ipython3",
   "version": "3.5.3"
  }
 },
 "nbformat": 4,
 "nbformat_minor": 2
}
